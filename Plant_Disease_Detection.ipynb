{
  "nbformat": 4,
  "nbformat_minor": 0,
  "metadata": {
    "colab": {
      "name": " Plant Disease Detection.ipynb",
      "provenance": [],
      "collapsed_sections": [],
      "include_colab_link": true
    },
    "kernelspec": {
      "name": "python3",
      "display_name": "Python 3"
    },
    "accelerator": "TPU"
  },
  "cells": [
    {
      "cell_type": "markdown",
      "metadata": {
        "id": "view-in-github",
        "colab_type": "text"
      },
      "source": [
        "<a href=\"https://colab.research.google.com/github/shashank-kumar-rajput/Coursera_Capstone/blob/master/Plant_Disease_Detection.ipynb\" target=\"_parent\"><img src=\"https://colab.research.google.com/assets/colab-badge.svg\" alt=\"Open In Colab\"/></a>"
      ]
    },
    {
      "cell_type": "markdown",
      "metadata": {
        "id": "7BLM6UPLQ_um"
      },
      "source": [
        "# **Final Year Project : design Weather Station for Farming**\n",
        "\n",
        "\n",
        "\n",
        "\n",
        "\n",
        "* Identifying Crop Disease\n",
        "* Temperature monitoring through ThinkSpeak.\n",
        "* Checking Air Quality and Humidity and monitoring through ThinkSpeak\n",
        "\n",
        "\n",
        "#**Submitted By:**\n",
        "\n",
        "*   Shashank Kumar\n",
        "\n",
        "*   Shashank Saxena\n",
        "*   Shourya Vashista\n",
        "*  Arjit Jaitely\n",
        "*  Shikha Singh \n",
        "\n",
        "\n",
        "#**Under the guidence of : N. R. Srivastava**\n",
        "---\n",
        "\n",
        "![alt text](https://cdn-images-1.medium.com/max/1200/1*FswlF4lZPQ4kT_gkybacZw.jpeg)\n",
        "\n",
        "\n",
        "# Introduction\n",
        "\n",
        "Getting affected by a disease is very common in plants due to various factors such as fertilizers, cultural practices followed, environmental conditions, etc. These diseases hurt agricultural yield and eventually the economy based on it. \n",
        "\n",
        "Any technique or method to overcome this problem and getting a warning before the plants are infected would aid farmers to efficiently cultivate crops or plants, both qualitatively and quantitatively. Thus, disease detection in plants plays a very important role in agriculture.\n"
      ]
    },
    {
      "cell_type": "markdown",
      "metadata": {
        "id": "y3YjEHM-HQpg"
      },
      "source": [
        "# Download Dataset\n"
      ]
    },
    {
      "cell_type": "markdown",
      "metadata": {
        "id": "I-nTknvLSCIH"
      },
      "source": [
        "First, we download the `PlantVillage` dataset from Google Drive by using the unique `id` it holds and unzip the downloaded **PlantVillage.zip** into the **PlantVillage** dataset folder."
      ]
    },
    {
      "cell_type": "code",
      "metadata": {
        "id": "q4MljCl78SnG",
        "colab": {
          "base_uri": "https://localhost:8080/",
          "height": 85
        },
        "outputId": "0b14cdc7-24c2-4480-da83-3e4e330d5931"
      },
      "source": [
        "# Download a file based on its file ID.\n",
        "file_id = '18DbC6Xj4NP-hLzI14WuMaAEyq482vNfn'\n",
        "\n",
        "# Download dataset\n",
        "!gdown https://drive.google.com/uc?id={file_id}\n",
        "\n",
        "# Unzip the downloaded file\n",
        "!unzip -q PlantVillage.zip"
      ],
      "execution_count": null,
      "outputs": [
        {
          "output_type": "stream",
          "text": [
            "Downloading...\n",
            "From: https://drive.google.com/uc?id=18DbC6Xj4NP-hLzI14WuMaAEyq482vNfn\n",
            "To: /content/PlantVillage.zip\n",
            "866MB [00:05, 148MB/s]\n"
          ],
          "name": "stdout"
        }
      ]
    },
    {
      "cell_type": "markdown",
      "metadata": {
        "id": "NA5gRqs6y97j"
      },
      "source": [
        "# Import Libraries\n"
      ]
    },
    {
      "cell_type": "markdown",
      "metadata": {
        "id": "VUGtqDPgSmZJ"
      },
      "source": [
        "Importing necessary libraries and modules required to build the classification model."
      ]
    },
    {
      "cell_type": "code",
      "metadata": {
        "id": "AMUpYwh1HpCi",
        "colab": {
          "base_uri": "https://localhost:8080/",
          "height": 34
        },
        "outputId": "fdab74cb-e272-4bbb-8744-65c20088fb45"
      },
      "source": [
        "import numpy as np\n",
        "import pickle\n",
        "import cv2\n",
        "import os\n",
        "import matplotlib.pyplot as plt\n",
        "from os import listdir\n",
        "from sklearn.preprocessing import LabelBinarizer\n",
        "from keras.models import Sequential\n",
        "from keras.layers.normalization import BatchNormalization\n",
        "from keras.layers.convolutional import Conv2D\n",
        "from keras.layers.convolutional import MaxPooling2D\n",
        "from keras.layers.core import Activation, Flatten, Dropout, Dense\n",
        "from keras import backend as K\n",
        "from keras.preprocessing.image import ImageDataGenerator\n",
        "from keras.optimizers import Adam\n",
        "from keras.preprocessing import image\n",
        "from keras.preprocessing.image import img_to_array\n",
        "from sklearn.preprocessing import MultiLabelBinarizer\n",
        "from sklearn.model_selection import train_test_split"
      ],
      "execution_count": null,
      "outputs": [
        {
          "output_type": "stream",
          "text": [
            "Using TensorFlow backend.\n"
          ],
          "name": "stderr"
        }
      ]
    },
    {
      "cell_type": "markdown",
      "metadata": {
        "id": "V_Chojawz3jw"
      },
      "source": [
        "# Load Dataset"
      ]
    },
    {
      "cell_type": "markdown",
      "metadata": {
        "id": "OyRk7kzTzOpO"
      },
      "source": [
        "Initializing a few parameters required for the image dataset preprocessing."
      ]
    },
    {
      "cell_type": "code",
      "metadata": {
        "id": "v5eHthEdIBsr"
      },
      "source": [
        "# Dimension of resized image\n",
        "DEFAULT_IMAGE_SIZE = tuple((256, 256))\n",
        "\n",
        "# Number of images used to train the model\n",
        "N_IMAGES = 100\n",
        "\n",
        "# Path to the dataset folder\n",
        "root_dir = './PlantVillage'\n",
        "\n",
        "train_dir = os.path.join(root_dir, 'train')\n",
        "val_dir = os.path.join(root_dir, 'val')"
      ],
      "execution_count": null,
      "outputs": []
    },
    {
      "cell_type": "markdown",
      "metadata": {
        "id": "vyFL0dIxz-zk"
      },
      "source": [
        "We use the function `convert_image_to_array` to resize an image to the size `DEFAULT_IMAGE_SIZE` we defined above."
      ]
    },
    {
      "cell_type": "code",
      "metadata": {
        "id": "WnCNrzC539qT"
      },
      "source": [
        "def convert_image_to_array(image_dir):\n",
        "    try:\n",
        "        image = cv2.imread(image_dir)\n",
        "        if image is not None:\n",
        "            image = cv2.resize(image, DEFAULT_IMAGE_SIZE)   \n",
        "            return img_to_array(image)\n",
        "        else:\n",
        "            return np.array([])\n",
        "    except Exception as e:\n",
        "        print(f\"Error : {e}\")\n",
        "        return None"
      ],
      "execution_count": null,
      "outputs": []
    },
    {
      "cell_type": "markdown",
      "metadata": {
        "id": "Q7uyGLRR1RaB"
      },
      "source": [
        "Here, we load the training data images by traversing through all the folders and converting all the images and labels into separate lists respectively.\n",
        "\n",
        "*NOTE: We use a small portion of the entire dataset due to the computing limitations. Tweak `N_IMAGES` to include entire dataset.*"
      ]
    },
    {
      "cell_type": "code",
      "metadata": {
        "id": "MPaECpW13__5",
        "colab": {
          "base_uri": "https://localhost:8080/",
          "height": 739
        },
        "outputId": "7d88fa4b-9abb-4615-db7a-797b1cb5e926"
      },
      "source": [
        "image_list, label_list = [], []\n",
        "\n",
        "try:\n",
        "    print(\"[INFO] Loading images ...\")\n",
        "    plant_disease_folder_list = listdir(train_dir)\n",
        "\n",
        "    for plant_disease_folder in plant_disease_folder_list:\n",
        "        print(f\"[INFO] Processing {plant_disease_folder} ...\")\n",
        "        plant_disease_image_list = listdir(f\"{train_dir}/{plant_disease_folder}/\")\n",
        "\n",
        "        for image in plant_disease_image_list[:N_IMAGES]:\n",
        "            image_directory = f\"{train_dir}/{plant_disease_folder}/{image}\"\n",
        "            if image_directory.endswith(\".jpg\")==True or image_directory.endswith(\".JPG\")==True:\n",
        "                image_list.append(convert_image_to_array(image_directory))\n",
        "                label_list.append(plant_disease_folder)\n",
        "\n",
        "    print(\"[INFO] Image loading completed\")  \n",
        "except Exception as e:\n",
        "    print(f\"Error : {e}\")\n",
        "\n",
        "# Transform the loaded training image data into numpy array\n",
        "np_image_list = np.array(image_list, dtype=np.float16) / 225.0\n",
        "print()\n",
        "\n",
        "# Check the number of images loaded for training\n",
        "image_len = len(image_list)\n",
        "print(f\"Total number of images: {image_len}\")"
      ],
      "execution_count": null,
      "outputs": [
        {
          "output_type": "stream",
          "text": [
            "[INFO] Loading images ...\n",
            "[INFO] Processing Soybean___healthy ...\n",
            "[INFO] Processing Cherry_(including_sour)___Powdery_mildew ...\n",
            "[INFO] Processing Corn_(maize)___Northern_Leaf_Blight ...\n",
            "[INFO] Processing Tomato___healthy ...\n",
            "[INFO] Processing Tomato___Target_Spot ...\n",
            "[INFO] Processing Potato___Early_blight ...\n",
            "[INFO] Processing Pepper,_bell___Bacterial_spot ...\n",
            "[INFO] Processing Peach___healthy ...\n",
            "[INFO] Processing Corn_(maize)___Cercospora_leaf_spot Gray_leaf_spot ...\n",
            "[INFO] Processing Corn_(maize)___healthy ...\n",
            "[INFO] Processing Cherry_(including_sour)___healthy ...\n",
            "[INFO] Processing Tomato___Leaf_Mold ...\n",
            "[INFO] Processing Apple___Cedar_apple_rust ...\n",
            "[INFO] Processing Potato___healthy ...\n",
            "[INFO] Processing Squash___Powdery_mildew ...\n",
            "[INFO] Processing Strawberry___healthy ...\n",
            "[INFO] Processing Orange___Haunglongbing_(Citrus_greening) ...\n",
            "[INFO] Processing Apple___healthy ...\n",
            "[INFO] Processing Grape___Leaf_blight_(Isariopsis_Leaf_Spot) ...\n",
            "[INFO] Processing Strawberry___Leaf_scorch ...\n",
            "[INFO] Processing Tomato___Spider_mites Two-spotted_spider_mite ...\n",
            "[INFO] Processing Tomato___Tomato_Yellow_Leaf_Curl_Virus ...\n",
            "[INFO] Processing Pepper,_bell___healthy ...\n",
            "[INFO] Processing Potato___Late_blight ...\n",
            "[INFO] Processing background ...\n",
            "[INFO] Processing Raspberry___healthy ...\n",
            "[INFO] Processing Corn_(maize)___Common_rust_ ...\n",
            "[INFO] Processing Apple___Black_rot ...\n",
            "[INFO] Processing Peach___Bacterial_spot ...\n",
            "[INFO] Processing Grape___healthy ...\n",
            "[INFO] Processing Tomato___Septoria_leaf_spot ...\n",
            "[INFO] Processing Apple___Apple_scab ...\n",
            "[INFO] Processing Blueberry___healthy ...\n",
            "[INFO] Processing Grape___Black_rot ...\n",
            "[INFO] Processing Tomato___Bacterial_spot ...\n",
            "[INFO] Processing Grape___Esca_(Black_Measles) ...\n",
            "[INFO] Processing Tomato___Late_blight ...\n",
            "[INFO] Processing Tomato___Tomato_mosaic_virus ...\n",
            "[INFO] Processing Tomato___Early_blight ...\n",
            "[INFO] Image loading completed\n",
            "\n",
            "Total number of images: 3900\n"
          ],
          "name": "stdout"
        }
      ]
    },
    {
      "cell_type": "markdown",
      "metadata": {
        "id": "WOzIsDNP3TWy"
      },
      "source": [
        "Examine the labels/classes in the training dataset."
      ]
    },
    {
      "cell_type": "code",
      "metadata": {
        "id": "jq5HO2SuILNk",
        "colab": {
          "base_uri": "https://localhost:8080/",
          "height": 35
        },
        "outputId": "182d992e-b353-4c79-b85f-5e4817bc3548"
      },
      "source": [
        "label_binarizer = LabelBinarizer()\n",
        "image_labels = label_binarizer.fit_transform(label_list)\n",
        "\n",
        "pickle.dump(label_binarizer,open('plant_disease_label_transform.pkl', 'wb'))\n",
        "n_classes = len(label_binarizer.classes_)\n",
        "\n",
        "print(\"Total number of classes: \", n_classes)"
      ],
      "execution_count": null,
      "outputs": [
        {
          "output_type": "stream",
          "text": [
            "Total number of classes:  39\n"
          ],
          "name": "stdout"
        }
      ]
    },
    {
      "cell_type": "markdown",
      "metadata": {
        "id": "siSjS-jG77FH"
      },
      "source": [
        "# Augment and Split Dataset"
      ]
    },
    {
      "cell_type": "markdown",
      "metadata": {
        "id": "G44Cdatx8VVN"
      },
      "source": [
        "Using `ImageDataGenerator` to augment data by performing various operations on the training images."
      ]
    },
    {
      "cell_type": "code",
      "metadata": {
        "id": "pbIYhnSFJkjp"
      },
      "source": [
        "augment = ImageDataGenerator(rotation_range=25, width_shift_range=0.1,\n",
        "                             height_shift_range=0.1, shear_range=0.2, \n",
        "                             zoom_range=0.2, horizontal_flip=True, \n",
        "                             fill_mode=\"nearest\")"
      ],
      "execution_count": null,
      "outputs": []
    },
    {
      "cell_type": "markdown",
      "metadata": {
        "id": "aaoNWFDd8swl"
      },
      "source": [
        "Splitting the data into training and test sets for validation purpose."
      ]
    },
    {
      "cell_type": "code",
      "metadata": {
        "id": "0Ls-TztoQlwD",
        "colab": {
          "base_uri": "https://localhost:8080/",
          "height": 34
        },
        "outputId": "fd39d4c6-26c0-465a-923c-d8044276d395"
      },
      "source": [
        "print(\"[INFO] Splitting data to train and test...\")\n",
        "x_train, x_test, y_train, y_test = train_test_split(np_image_list, image_labels, test_size=0.2, random_state = 42) "
      ],
      "execution_count": null,
      "outputs": [
        {
          "output_type": "stream",
          "text": [
            "[INFO] Splitting data to train and test...\n"
          ],
          "name": "stdout"
        }
      ]
    },
    {
      "cell_type": "markdown",
      "metadata": {
        "id": "i4VNmekW4oEN"
      },
      "source": [
        "# Build Model\n"
      ]
    },
    {
      "cell_type": "markdown",
      "metadata": {
        "id": "1QUHIVIcg6qI"
      },
      "source": [
        "Defining the hyperparameters of the plant disease classification model."
      ]
    },
    {
      "cell_type": "code",
      "metadata": {
        "id": "BLZkDigJ9q4X"
      },
      "source": [
        "EPOCHS = 25\n",
        "STEPS = 100\n",
        "LR = 1e-3\n",
        "BATCH_SIZE = 32\n",
        "WIDTH = 256\n",
        "HEIGHT = 256\n",
        "DEPTH = 3"
      ],
      "execution_count": null,
      "outputs": []
    },
    {
      "cell_type": "markdown",
      "metadata": {
        "id": "ZAlqxrJzha2n"
      },
      "source": [
        "Creating a sequential model and adding Convolutional, Normalization, Pooling, Dropout and Activation layers at the appropriate positions."
      ]
    },
    {
      "cell_type": "code",
      "metadata": {
        "id": "J_QFYYx8OVOb",
        "colab": {
          "base_uri": "https://localhost:8080/",
          "height": 1000
        },
        "outputId": "102fba93-dd57-492e-9280-eec13f749d18"
      },
      "source": [
        "model = Sequential()\n",
        "inputShape = (HEIGHT, WIDTH, DEPTH)\n",
        "chanDim = -1\n",
        "\n",
        "if K.image_data_format() == \"channels_first\":\n",
        "    inputShape = (DEPTH, HEIGHT, WIDTH)\n",
        "    chanDim = 1\n",
        "\n",
        "model.add(Conv2D(32, (3, 3), padding=\"same\",input_shape=inputShape))\n",
        "model.add(Activation(\"relu\"))\n",
        "model.add(BatchNormalization(axis=chanDim))\n",
        "model.add(MaxPooling2D(pool_size=(3, 3)))\n",
        "model.add(Dropout(0.25))\n",
        "model.add(Conv2D(64, (3, 3), padding=\"same\"))\n",
        "model.add(Activation(\"relu\"))\n",
        "model.add(BatchNormalization(axis=chanDim))\n",
        "model.add(Conv2D(64, (3, 3), padding=\"same\"))\n",
        "model.add(Activation(\"relu\"))\n",
        "model.add(BatchNormalization(axis=chanDim))\n",
        "model.add(MaxPooling2D(pool_size=(2, 2)))\n",
        "model.add(Dropout(0.25))\n",
        "model.add(Conv2D(128, (3, 3), padding=\"same\"))\n",
        "model.add(Activation(\"relu\"))\n",
        "model.add(BatchNormalization(axis=chanDim))\n",
        "model.add(Conv2D(128, (3, 3), padding=\"same\"))\n",
        "model.add(Activation(\"relu\"))\n",
        "model.add(BatchNormalization(axis=chanDim))\n",
        "model.add(MaxPooling2D(pool_size=(2, 2)))\n",
        "model.add(Dropout(0.25))\n",
        "model.add(Flatten())\n",
        "model.add(Dense(1024))\n",
        "model.add(Activation(\"relu\"))\n",
        "model.add(BatchNormalization())\n",
        "model.add(Dropout(0.5))\n",
        "model.add(Dense(n_classes))\n",
        "model.add(Activation(\"softmax\"))\n",
        "\n",
        "model.summary()"
      ],
      "execution_count": null,
      "outputs": [
        {
          "output_type": "stream",
          "text": [
            "Model: \"sequential_1\"\n",
            "_________________________________________________________________\n",
            "Layer (type)                 Output Shape              Param #   \n",
            "=================================================================\n",
            "conv2d_1 (Conv2D)            (None, 256, 256, 32)      896       \n",
            "_________________________________________________________________\n",
            "activation_1 (Activation)    (None, 256, 256, 32)      0         \n",
            "_________________________________________________________________\n",
            "batch_normalization_1 (Batch (None, 256, 256, 32)      128       \n",
            "_________________________________________________________________\n",
            "max_pooling2d_1 (MaxPooling2 (None, 85, 85, 32)        0         \n",
            "_________________________________________________________________\n",
            "dropout_1 (Dropout)          (None, 85, 85, 32)        0         \n",
            "_________________________________________________________________\n",
            "conv2d_2 (Conv2D)            (None, 85, 85, 64)        18496     \n",
            "_________________________________________________________________\n",
            "activation_2 (Activation)    (None, 85, 85, 64)        0         \n",
            "_________________________________________________________________\n",
            "batch_normalization_2 (Batch (None, 85, 85, 64)        256       \n",
            "_________________________________________________________________\n",
            "conv2d_3 (Conv2D)            (None, 85, 85, 64)        36928     \n",
            "_________________________________________________________________\n",
            "activation_3 (Activation)    (None, 85, 85, 64)        0         \n",
            "_________________________________________________________________\n",
            "batch_normalization_3 (Batch (None, 85, 85, 64)        256       \n",
            "_________________________________________________________________\n",
            "max_pooling2d_2 (MaxPooling2 (None, 42, 42, 64)        0         \n",
            "_________________________________________________________________\n",
            "dropout_2 (Dropout)          (None, 42, 42, 64)        0         \n",
            "_________________________________________________________________\n",
            "conv2d_4 (Conv2D)            (None, 42, 42, 128)       73856     \n",
            "_________________________________________________________________\n",
            "activation_4 (Activation)    (None, 42, 42, 128)       0         \n",
            "_________________________________________________________________\n",
            "batch_normalization_4 (Batch (None, 42, 42, 128)       512       \n",
            "_________________________________________________________________\n",
            "conv2d_5 (Conv2D)            (None, 42, 42, 128)       147584    \n",
            "_________________________________________________________________\n",
            "activation_5 (Activation)    (None, 42, 42, 128)       0         \n",
            "_________________________________________________________________\n",
            "batch_normalization_5 (Batch (None, 42, 42, 128)       512       \n",
            "_________________________________________________________________\n",
            "max_pooling2d_3 (MaxPooling2 (None, 21, 21, 128)       0         \n",
            "_________________________________________________________________\n",
            "dropout_3 (Dropout)          (None, 21, 21, 128)       0         \n",
            "_________________________________________________________________\n",
            "flatten_1 (Flatten)          (None, 56448)             0         \n",
            "_________________________________________________________________\n",
            "dense_1 (Dense)              (None, 1024)              57803776  \n",
            "_________________________________________________________________\n",
            "activation_6 (Activation)    (None, 1024)              0         \n",
            "_________________________________________________________________\n",
            "batch_normalization_6 (Batch (None, 1024)              4096      \n",
            "_________________________________________________________________\n",
            "dropout_4 (Dropout)          (None, 1024)              0         \n",
            "_________________________________________________________________\n",
            "dense_2 (Dense)              (None, 39)                39975     \n",
            "_________________________________________________________________\n",
            "activation_7 (Activation)    (None, 39)                0         \n",
            "=================================================================\n",
            "Total params: 58,127,271\n",
            "Trainable params: 58,124,391\n",
            "Non-trainable params: 2,880\n",
            "_________________________________________________________________\n"
          ],
          "name": "stdout"
        }
      ]
    },
    {
      "cell_type": "markdown",
      "metadata": {
        "id": "ViKAhHPN5VMM"
      },
      "source": [
        "# Train Model\n"
      ]
    },
    {
      "cell_type": "markdown",
      "metadata": {
        "id": "syZMhHG-iFlT"
      },
      "source": [
        "We initialize Adam optimizer with learning rate and decay parameters. \n",
        "\n",
        "Also, we choose the type of loss and metrics for the model and compile it for training."
      ]
    },
    {
      "cell_type": "code",
      "metadata": {
        "id": "PFRGnmHiO0Wt",
        "colab": {
          "base_uri": "https://localhost:8080/",
          "height": 884
        },
        "outputId": "410f8866-8786-4591-d71f-5a5c016e3ad9"
      },
      "source": [
        "# Initialize optimizer\n",
        "opt = Adam(lr=LR, decay=LR / EPOCHS)\n",
        "\n",
        "# Compile model\n",
        "model.compile(loss=\"binary_crossentropy\", optimizer=opt, metrics=[\"accuracy\"])\n",
        "\n",
        "# Train model\n",
        "print(\"[INFO] Training network...\")\n",
        "history = model.fit_generator(augment.flow(x_train, y_train, batch_size=BATCH_SIZE),\n",
        "                              validation_data=(x_test, y_test),\n",
        "                              steps_per_epoch=len(x_train) // BATCH_SIZE,\n",
        "                              epochs=EPOCHS, \n",
        "                              verbose=1)"
      ],
      "execution_count": null,
      "outputs": [
        {
          "output_type": "stream",
          "text": [
            "[INFO] Training network...\n",
            "Epoch 1/25\n",
            "97/97 [==============================] - 792s 8s/step - loss: 0.0964 - accuracy: 0.9739 - val_loss: 0.3557 - val_accuracy: 0.9499\n",
            "Epoch 2/25\n",
            "97/97 [==============================] - 778s 8s/step - loss: 0.0852 - accuracy: 0.9749 - val_loss: 0.3076 - val_accuracy: 0.9669\n",
            "Epoch 3/25\n",
            "97/97 [==============================] - 793s 8s/step - loss: 0.0718 - accuracy: 0.9775 - val_loss: 0.3322 - val_accuracy: 0.9549\n",
            "Epoch 4/25\n",
            "97/97 [==============================] - 788s 8s/step - loss: 0.0576 - accuracy: 0.9813 - val_loss: 0.1837 - val_accuracy: 0.9626\n",
            "Epoch 5/25\n",
            "97/97 [==============================] - 791s 8s/step - loss: 0.0575 - accuracy: 0.9809 - val_loss: 0.0760 - val_accuracy: 0.9767\n",
            "Epoch 6/25\n",
            "97/97 [==============================] - 802s 8s/step - loss: 0.0500 - accuracy: 0.9830 - val_loss: 0.1289 - val_accuracy: 0.9714\n",
            "Epoch 7/25\n",
            "97/97 [==============================] - 795s 8s/step - loss: 0.0520 - accuracy: 0.9828 - val_loss: 0.1049 - val_accuracy: 0.9765\n",
            "Epoch 8/25\n",
            "97/97 [==============================] - 802s 8s/step - loss: 0.0422 - accuracy: 0.9854 - val_loss: 0.0811 - val_accuracy: 0.9787\n",
            "Epoch 9/25\n",
            "97/97 [==============================] - 796s 8s/step - loss: 0.0395 - accuracy: 0.9860 - val_loss: 0.0859 - val_accuracy: 0.9787\n",
            "Epoch 10/25\n",
            "97/97 [==============================] - 804s 8s/step - loss: 0.0359 - accuracy: 0.9875 - val_loss: 0.2368 - val_accuracy: 0.9668\n",
            "Epoch 11/25\n",
            "97/97 [==============================] - 809s 8s/step - loss: 0.0345 - accuracy: 0.9881 - val_loss: 0.1852 - val_accuracy: 0.9674\n",
            "Epoch 12/25\n",
            "97/97 [==============================] - 802s 8s/step - loss: 0.0323 - accuracy: 0.9887 - val_loss: 0.1122 - val_accuracy: 0.9758\n",
            "Epoch 13/25\n",
            "97/97 [==============================] - 806s 8s/step - loss: 0.0328 - accuracy: 0.9883 - val_loss: 0.2544 - val_accuracy: 0.9608\n",
            "Epoch 14/25\n",
            "97/97 [==============================] - 804s 8s/step - loss: 0.0373 - accuracy: 0.9868 - val_loss: 0.0958 - val_accuracy: 0.9783\n",
            "Epoch 15/25\n",
            "97/97 [==============================] - 810s 8s/step - loss: 0.0305 - accuracy: 0.9892 - val_loss: 0.1213 - val_accuracy: 0.9722\n",
            "Epoch 16/25\n",
            "97/97 [==============================] - 796s 8s/step - loss: 0.0289 - accuracy: 0.9897 - val_loss: 0.0630 - val_accuracy: 0.9845\n",
            "Epoch 17/25\n",
            "97/97 [==============================] - 807s 8s/step - loss: 0.0273 - accuracy: 0.9903 - val_loss: 0.0800 - val_accuracy: 0.9822\n",
            "Epoch 18/25\n",
            "97/97 [==============================] - 829s 9s/step - loss: 0.0256 - accuracy: 0.9909 - val_loss: 0.1230 - val_accuracy: 0.9761\n",
            "Epoch 19/25\n",
            "97/97 [==============================] - 822s 8s/step - loss: 0.0247 - accuracy: 0.9909 - val_loss: 0.1299 - val_accuracy: 0.9765\n",
            "Epoch 20/25\n",
            "97/97 [==============================] - 814s 8s/step - loss: 0.0243 - accuracy: 0.9913 - val_loss: 0.2022 - val_accuracy: 0.9696\n",
            "Epoch 21/25\n",
            "97/97 [==============================] - 820s 8s/step - loss: 0.0210 - accuracy: 0.9922 - val_loss: 0.0584 - val_accuracy: 0.9862\n",
            "Epoch 22/25\n",
            "97/97 [==============================] - 824s 8s/step - loss: 0.0198 - accuracy: 0.9926 - val_loss: 0.0557 - val_accuracy: 0.9838\n",
            "Epoch 23/25\n",
            "97/97 [==============================] - 825s 9s/step - loss: 0.0203 - accuracy: 0.9925 - val_loss: 0.0264 - val_accuracy: 0.9916\n",
            "Epoch 24/25\n",
            "97/97 [==============================] - 818s 8s/step - loss: 0.0197 - accuracy: 0.9925 - val_loss: 0.0481 - val_accuracy: 0.9887\n",
            "Epoch 25/25\n",
            "97/97 [==============================] - 813s 8s/step - loss: 0.0187 - accuracy: 0.9933 - val_loss: 0.0497 - val_accuracy: 0.9875\n"
          ],
          "name": "stdout"
        }
      ]
    },
    {
      "cell_type": "markdown",
      "metadata": {
        "id": "d6gp-hPe9Rra"
      },
      "source": [
        "# Evaluate Model"
      ]
    },
    {
      "cell_type": "markdown",
      "metadata": {
        "id": "75wjEVZ-9Yab"
      },
      "source": [
        "Comparing the accuracy and loss by plotting the graph for training and validation."
      ]
    },
    {
      "cell_type": "code",
      "metadata": {
        "id": "68DC4UqXTH4r",
        "colab": {
          "base_uri": "https://localhost:8080/",
          "height": 545
        },
        "outputId": "ba9057e9-7f06-48e9-db10-c198e7a52ad4"
      },
      "source": [
        "acc = history.history['accuracy']\n",
        "val_acc = history.history['val_accuracy']\n",
        "loss = history.history['loss']\n",
        "val_loss = history.history['val_loss']\n",
        "epochs = range(1, len(acc) + 1)\n",
        "\n",
        "# Train and validation accuracy\n",
        "plt.plot(epochs, acc, 'b', label='Training accurarcy')\n",
        "plt.plot(epochs, val_acc, 'r', label='Validation accurarcy')\n",
        "plt.title('Training and Validation accurarcy')\n",
        "plt.legend()\n",
        "\n",
        "plt.figure()\n",
        "\n",
        "# Train and validation loss\n",
        "plt.plot(epochs, loss, 'b', label='Training loss')\n",
        "plt.plot(epochs, val_loss, 'r', label='Validation loss')\n",
        "plt.title('Training and Validation loss')\n",
        "plt.legend()\n",
        "plt.show()"
      ],
      "execution_count": null,
      "outputs": [
        {
          "output_type": "display_data",
          "data": {
            "image/png": "[encoded data removed]",
            "text/plain": [
              "<Figure size 432x288 with 1 Axes>"
            ]
          },
          "metadata": {
            "tags": [],
            "needs_background": "light"
          }
        },
        {
          "output_type": "display_data",
          "data": {
            "image/png": "[encoded data removed]",
            "text/plain": [
              "<Figure size 432x288 with 1 Axes>"
            ]
          },
          "metadata": {
            "tags": [],
            "needs_background": "light"
          }
        }
      ]
    },
    {
      "cell_type": "markdown",
      "metadata": {
        "id": "BXO9rDqtNlDN"
      },
      "source": [
        "Evaluating model accuracy by using the `evaluate` method"
      ]
    },
    {
      "cell_type": "code",
      "metadata": {
        "id": "WlvFAyeuRQPK",
        "colab": {
          "base_uri": "https://localhost:8080/",
          "height": 68
        },
        "outputId": "9d775b2b-cdee-4e34-dda6-698fbce551b8"
      },
      "source": [
        "print(\"[INFO] Calculating model accuracy\")\n",
        "scores = model.evaluate(x_test, y_test)\n",
        "print(f\"Test Accuracy: {scores[1]*100}\")"
      ],
      "execution_count": null,
      "outputs": [
        {
          "output_type": "stream",
          "text": [
            "[INFO] Calculating model accuracy\n",
            "780/780 [==============================] - 52s 66ms/step\n",
            "Test Accuracy: 98.74754548072815\n"
          ],
          "name": "stdout"
        }
      ]
    },
    {
      "cell_type": "markdown",
      "metadata": {
        "id": "02FiJNWTN5J0"
      },
      "source": [
        "# Save Model"
      ]
    },
    {
      "cell_type": "code",
      "metadata": {
        "id": "m84g3UW4RW0j",
        "colab": {
          "base_uri": "https://localhost:8080/",
          "height": 34
        },
        "outputId": "9972543b-0d1b-4a51-9a79-15564c874f9a"
      },
      "source": [
        "# Dump pickle file of the model\n",
        "print(\"[INFO] Saving model...\")\n",
        "pickle.dump(model,open('plant_disease_classification_model.pkl', 'wb'))"
      ],
      "execution_count": null,
      "outputs": [
        {
          "output_type": "stream",
          "text": [
            "[INFO] Saving model...\n"
          ],
          "name": "stdout"
        }
      ]
    },
    {
      "cell_type": "code",
      "metadata": {
        "id": "UkzOGExsRe3I",
        "colab": {
          "base_uri": "https://localhost:8080/",
          "height": 34
        },
        "outputId": "3bb2d4f6-8384-418a-d6b2-669bafb82ee2"
      },
      "source": [
        "# Dump pickle file of the labels\n",
        "print(\"[INFO] Saving label transform...\")\n",
        "filename = 'plant_disease_label_transform.pkl'\n",
        "image_labels = pickle.load(open(filename, 'rb'))"
      ],
      "execution_count": null,
      "outputs": [
        {
          "output_type": "stream",
          "text": [
            "[INFO] Saving label transform...\n"
          ],
          "name": "stdout"
        }
      ]
    },
    {
      "cell_type": "markdown",
      "metadata": {
        "id": "tRvKwCACObpp"
      },
      "source": [
        "# Test Model\n"
      ]
    },
    {
      "cell_type": "markdown",
      "metadata": {
        "id": "ZKZcE-RmiuvH"
      },
      "source": [
        "We write the following `predict_disease` function to predict the class or disease of a plant image. \n",
        "\n",
        "We just need to provide the complete path to the image and it displays the image along with its prediction class or plant disease."
      ]
    },
    {
      "cell_type": "code",
      "metadata": {
        "id": "uxhKVIETOuah"
      },
      "source": [
        "def predict_disease(image_path):\n",
        "    image_array = convert_image_to_array(image_path)\n",
        "    np_image = np.array(image_array, dtype=np.float16) / 225.0\n",
        "    np_image = np.expand_dims(np_image,0)\n",
        "    plt.imshow(plt.imread(image_path))\n",
        "    result = model.predict_classes(np_image)\n",
        "    print((image_labels.classes_[result][0]))"
      ],
      "execution_count": 1,
      "outputs": []
    },
    {
      "cell_type": "markdown",
      "metadata": {
        "id": "93kbeqlSjCb-"
      },
      "source": [
        "For testing purposes, we randomly choose images from the dataset and try predicting class or disease of the plant image."
      ]
    },
    {
      "cell_type": "code",
      "metadata": {
        "id": "w2Eq3ybER2dX",
        "colab": {
          "base_uri": "https://localhost:8080/",
          "height": 292
        },
        "outputId": "92bc870a-a3d9-454d-eed7-d01a0fd7b71d"
      },
      "source": [
        "predict_disease('/content/PlantVillage/val/Blueberry___healthy/008c85d0-a954-4127-bd26-861dc8a1e6ff___RS_HL 2431.JPG')"
      ],
      "execution_count": 2,
      "outputs": [
        {
          "output_type": "error",
          "ename": "NameError",
          "evalue": "ignored",
          "traceback": [
            "\u001b[0;31m---------------------------------------------------------------------------\u001b[0m",
            "\u001b[0;31mNameError\u001b[0m                                 Traceback (most recent call last)",
            "\u001b[0;32m<ipython-input-2-89caa2ccccff>\u001b[0m in \u001b[0;36m<module>\u001b[0;34m()\u001b[0m\n\u001b[0;32m----> 1\u001b[0;31m \u001b[0mpredict_disease\u001b[0m\u001b[0;34m(\u001b[0m\u001b[0;34m'/content/PlantVillage/val/Blueberry___healthy/008c85d0-a954-4127-bd26-861dc8a1e6ff___RS_HL 2431.JPG'\u001b[0m\u001b[0;34m)\u001b[0m\u001b[0;34m\u001b[0m\u001b[0;34m\u001b[0m\u001b[0m\n\u001b[0m",
            "\u001b[0;32m<ipython-input-1-9ed41462558f>\u001b[0m in \u001b[0;36mpredict_disease\u001b[0;34m(image_path)\u001b[0m\n\u001b[1;32m      1\u001b[0m \u001b[0;32mdef\u001b[0m \u001b[0mpredict_disease\u001b[0m\u001b[0;34m(\u001b[0m\u001b[0mimage_path\u001b[0m\u001b[0;34m)\u001b[0m\u001b[0;34m:\u001b[0m\u001b[0;34m\u001b[0m\u001b[0;34m\u001b[0m\u001b[0m\n\u001b[0;32m----> 2\u001b[0;31m     \u001b[0mimage_array\u001b[0m \u001b[0;34m=\u001b[0m \u001b[0mconvert_image_to_array\u001b[0m\u001b[0;34m(\u001b[0m\u001b[0mimage_path\u001b[0m\u001b[0;34m)\u001b[0m\u001b[0;34m\u001b[0m\u001b[0;34m\u001b[0m\u001b[0m\n\u001b[0m\u001b[1;32m      3\u001b[0m     \u001b[0mnp_image\u001b[0m \u001b[0;34m=\u001b[0m \u001b[0mnp\u001b[0m\u001b[0;34m.\u001b[0m\u001b[0marray\u001b[0m\u001b[0;34m(\u001b[0m\u001b[0mimage_array\u001b[0m\u001b[0;34m,\u001b[0m \u001b[0mdtype\u001b[0m\u001b[0;34m=\u001b[0m\u001b[0mnp\u001b[0m\u001b[0;34m.\u001b[0m\u001b[0mfloat16\u001b[0m\u001b[0;34m)\u001b[0m \u001b[0;34m/\u001b[0m \u001b[0;36m225.0\u001b[0m\u001b[0;34m\u001b[0m\u001b[0;34m\u001b[0m\u001b[0m\n\u001b[1;32m      4\u001b[0m     \u001b[0mnp_image\u001b[0m \u001b[0;34m=\u001b[0m \u001b[0mnp\u001b[0m\u001b[0;34m.\u001b[0m\u001b[0mexpand_dims\u001b[0m\u001b[0;34m(\u001b[0m\u001b[0mnp_image\u001b[0m\u001b[0;34m,\u001b[0m\u001b[0;36m0\u001b[0m\u001b[0;34m)\u001b[0m\u001b[0;34m\u001b[0m\u001b[0;34m\u001b[0m\u001b[0m\n\u001b[1;32m      5\u001b[0m     \u001b[0mplt\u001b[0m\u001b[0;34m.\u001b[0m\u001b[0mimshow\u001b[0m\u001b[0;34m(\u001b[0m\u001b[0mplt\u001b[0m\u001b[0;34m.\u001b[0m\u001b[0mimread\u001b[0m\u001b[0;34m(\u001b[0m\u001b[0mimage_path\u001b[0m\u001b[0;34m)\u001b[0m\u001b[0;34m)\u001b[0m\u001b[0;34m\u001b[0m\u001b[0;34m\u001b[0m\u001b[0m\n",
            "\u001b[0;31mNameError\u001b[0m: name 'convert_image_to_array' is not defined"
          ]
        }
      ]
    },
    {
      "cell_type": "code",
      "metadata": {
        "id": "Yx7zkdJWlLAz"
      },
      "source": [
        "predict_disease('/content/PlantVillage/val/Potato___Early_blight/03b0d3c1-b5b0-48f4-98aa-f8904670290f___RS_Early.B 7051.JPG')"
      ],
      "execution_count": null,
      "outputs": []
    },
    {
      "cell_type": "code",
      "metadata": {
        "id": "PJb3gtAWlgJW"
      },
      "source": [
        "predict_disease('/content/PlantVillage/val/Tomato___Target_Spot/1006b3dd-22d8-41b8-b83d-08bf189fcdaa___Com.G_TgS_FL 8118.JPG')"
      ],
      "execution_count": null,
      "outputs": []
    },
    {
      "cell_type": "code",
      "metadata": {
        "id": "6SVSwms_ln3B"
      },
      "source": [
        "predict_disease('/content/PlantVillage/val/Orange___Haunglongbing_(Citrus_greening)/02459e0c-a189-4dc9-a0dc-0548e36d0efb___CREC_HLB 5714.JPG')"
      ],
      "execution_count": null,
      "outputs": []
    }
  ]
}